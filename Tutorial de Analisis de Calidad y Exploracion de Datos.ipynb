{
 "cells": [
  {
   "cell_type": "markdown",
   "metadata": {},
   "source": [
    "# Tutorial de Análisis de Calidad y Exploración de Datos"
   ]
  },
  {
   "cell_type": "markdown",
   "metadata": {},
   "source": [
    "Vamos a realizar un Análisis de los Datos de Hospitalizaciones\n",
    "\n",
    "La exploración inicial la realizaremos utilizando las siguientes herramientas:\n",
    "\n",
    "- [ipython notebook](http://ipython.org/)\n",
    "- [Pandas](http://pandas.pydata.org/)\n",
    "- [Seaborn](http://stanford.edu/~mwaskom/software/seaborn/)\n",
    "- [numpy](http://www.numpy.org/)"
   ]
  },
  {
   "cell_type": "markdown",
   "metadata": {},
   "source": [
    "# 1. Configurar el Ambiente"
   ]
  },
  {
   "cell_type": "markdown",
   "metadata": {},
   "source": [
    "Importar librerias necesarias\n",
    "!conda install seaborn"
   ]
  },
  {
   "cell_type": "code",
   "execution_count": 32,
   "metadata": {
    "collapsed": false
   },
   "outputs": [],
   "source": [
    "import pandas as pd\n",
    "from matplotlib import pyplot as plt\n",
    "import numpy as np \n",
    "import seaborn as sns\n",
    "%matplotlib inline\n",
    "#sns.set_style(\"darkgrid\")"
   ]
  },
  {
   "cell_type": "markdown",
   "metadata": {},
   "source": [
    "Localizar el ambiente en la dirección de Trabajo"
   ]
  },
  {
   "cell_type": "code",
   "execution_count": 4,
   "metadata": {
    "collapsed": false
   },
   "outputs": [
    {
     "name": "stdout",
     "output_type": "stream",
     "text": [
      "D:\\MINE\\CIENCIA DATOS\\Tarea4\n"
     ]
    }
   ],
   "source": [
    "%cd D:\\MINE\\CIENCIA DATOS\\Tarea4"
   ]
  },
  {
   "cell_type": "markdown",
   "metadata": {},
   "source": [
    "# 2. Leer los Datos"
   ]
  },
  {
   "cell_type": "markdown",
   "metadata": {},
   "source": [
    "Leer los datos se puede realizar con una función de la libreria Pandas:\n",
    "\n",
    "- read_csv\n",
    "- read_excel\n",
    "- read_hdf\n",
    "- read_sql\n",
    "- read_json\n",
    "- read_html\n",
    "- read_stata\n",
    "- read_sas\n",
    "- read_clipboard\n",
    "- read_pickle"
   ]
  },
  {
   "cell_type": "code",
   "execution_count": 5,
   "metadata": {
    "collapsed": true
   },
   "outputs": [],
   "source": [
    "df = pd.read_csv(\"hospitalizacion2003.txt\", encoding=\"ISO-8859-1\")"
   ]
  },
  {
   "cell_type": "markdown",
   "metadata": {},
   "source": [
    "# 3. Inspección Inicial de Los Datos"
   ]
  },
  {
   "cell_type": "markdown",
   "metadata": {
    "collapsed": true
   },
   "source": [
    "Inspeccionar las primeras o las últimas columnas de los datos"
   ]
  },
  {
   "cell_type": "code",
   "execution_count": 6,
   "metadata": {
    "collapsed": false
   },
   "outputs": [
    {
     "data": {
      "text/html": [
       "<div>\n",
       "<table border=\"1\" class=\"dataframe\">\n",
       "  <thead>\n",
       "    <tr style=\"text-align: right;\">\n",
       "      <th></th>\n",
       "      <th>'COD_EAPB'</th>\n",
       "      <th>'COD_IPS'</th>\n",
       "      <th>'FACTURA'</th>\n",
       "      <th>'TIPO_IDENTI'</th>\n",
       "      <th>'VIA_INGRESO'</th>\n",
       "      <th>'FECHA_INGRESO'</th>\n",
       "      <th>'HORA_INGRESO'</th>\n",
       "      <th>'CAUSA_EXTERNA'</th>\n",
       "      <th>'DIAG_PRIN_INGRE'</th>\n",
       "      <th>'DIAG_PRIN_EGRE'</th>\n",
       "      <th>...</th>\n",
       "      <th>'DIAG_MUERTE'</th>\n",
       "      <th>'FECHA_EGRE'</th>\n",
       "      <th>'HORA_EGRE'</th>\n",
       "      <th>'nro_radicacion'</th>\n",
       "      <th>'cod_dpto'</th>\n",
       "      <th>'cod_mpio'</th>\n",
       "      <th>'sexo'</th>\n",
       "      <th>'edad'</th>\n",
       "      <th>'tipo_usuario'</th>\n",
       "      <th>'consecutivo'</th>\n",
       "    </tr>\n",
       "  </thead>\n",
       "  <tbody>\n",
       "    <tr>\n",
       "      <th>0</th>\n",
       "      <td>'CCF001'</td>\n",
       "      <td>'0500102175'</td>\n",
       "      <td>'817485'</td>\n",
       "      <td>'RC'</td>\n",
       "      <td>'1'</td>\n",
       "      <td>2003-12-29 00:00:00</td>\n",
       "      <td>'21:39'</td>\n",
       "      <td>'13'</td>\n",
       "      <td>'R560'</td>\n",
       "      <td>'Y621'</td>\n",
       "      <td>...</td>\n",
       "      <td>''</td>\n",
       "      <td>2004-01-02 00:00:00</td>\n",
       "      <td>'16:2'</td>\n",
       "      <td>360</td>\n",
       "      <td>'05'</td>\n",
       "      <td>'086'</td>\n",
       "      <td>'M'</td>\n",
       "      <td>0</td>\n",
       "      <td>'2'</td>\n",
       "      <td>'586'</td>\n",
       "    </tr>\n",
       "    <tr>\n",
       "      <th>1</th>\n",
       "      <td>'EPS001'</td>\n",
       "      <td>'0000050003'</td>\n",
       "      <td>'1613705'</td>\n",
       "      <td>'RC'</td>\n",
       "      <td>'2'</td>\n",
       "      <td>2003-10-24 00:00:00</td>\n",
       "      <td>'00:00'</td>\n",
       "      <td>'13'</td>\n",
       "      <td>'J180'</td>\n",
       "      <td>'J180'</td>\n",
       "      <td>...</td>\n",
       "      <td>''</td>\n",
       "      <td>2003-10-25 00:00:00</td>\n",
       "      <td>'00:0'</td>\n",
       "      <td>360</td>\n",
       "      <td>'11'</td>\n",
       "      <td>'001'</td>\n",
       "      <td>'M'</td>\n",
       "      <td>1</td>\n",
       "      <td>'1'</td>\n",
       "      <td>'18567211'</td>\n",
       "    </tr>\n",
       "    <tr>\n",
       "      <th>2</th>\n",
       "      <td>'ESS024'</td>\n",
       "      <td>'7600100171'</td>\n",
       "      <td>'10412733'</td>\n",
       "      <td>'MS'</td>\n",
       "      <td>'2'</td>\n",
       "      <td>2003-01-19 00:00:00</td>\n",
       "      <td>'09:21'</td>\n",
       "      <td>'13'</td>\n",
       "      <td>'P039'</td>\n",
       "      <td>'S201'</td>\n",
       "      <td>...</td>\n",
       "      <td>''</td>\n",
       "      <td>2003-03-07 00:00:00</td>\n",
       "      <td>'18:58'</td>\n",
       "      <td>360</td>\n",
       "      <td>'76'</td>\n",
       "      <td>'109'</td>\n",
       "      <td>'M'</td>\n",
       "      <td>0</td>\n",
       "      <td>'2'</td>\n",
       "      <td>'18566948'</td>\n",
       "    </tr>\n",
       "    <tr>\n",
       "      <th>3</th>\n",
       "      <td>'ESS024'</td>\n",
       "      <td>'7600100171'</td>\n",
       "      <td>'10412733'</td>\n",
       "      <td>'MS'</td>\n",
       "      <td>'2'</td>\n",
       "      <td>2003-01-19 00:00:00</td>\n",
       "      <td>'09:21'</td>\n",
       "      <td>'13'</td>\n",
       "      <td>'P039'</td>\n",
       "      <td>'S201'</td>\n",
       "      <td>...</td>\n",
       "      <td>''</td>\n",
       "      <td>2003-03-07 00:00:00</td>\n",
       "      <td>'18:58'</td>\n",
       "      <td>358</td>\n",
       "      <td>'76'</td>\n",
       "      <td>'109'</td>\n",
       "      <td>'M'</td>\n",
       "      <td>0</td>\n",
       "      <td>'2'</td>\n",
       "      <td>'18566948'</td>\n",
       "    </tr>\n",
       "    <tr>\n",
       "      <th>4</th>\n",
       "      <td>'ESS024'</td>\n",
       "      <td>'7600100171'</td>\n",
       "      <td>'10412733'</td>\n",
       "      <td>'MS'</td>\n",
       "      <td>'2'</td>\n",
       "      <td>2003-01-19 00:00:00</td>\n",
       "      <td>'09:21'</td>\n",
       "      <td>'13'</td>\n",
       "      <td>'P039'</td>\n",
       "      <td>'S201'</td>\n",
       "      <td>...</td>\n",
       "      <td>''</td>\n",
       "      <td>2003-03-07 00:00:00</td>\n",
       "      <td>'18:58'</td>\n",
       "      <td>1506</td>\n",
       "      <td>'76'</td>\n",
       "      <td>'109'</td>\n",
       "      <td>'M'</td>\n",
       "      <td>0</td>\n",
       "      <td>'2'</td>\n",
       "      <td>'18566948'</td>\n",
       "    </tr>\n",
       "  </tbody>\n",
       "</table>\n",
       "<p>5 rows × 25 columns</p>\n",
       "</div>"
      ],
      "text/plain": [
       "  'COD_EAPB'     'COD_IPS'   'FACTURA' 'TIPO_IDENTI' 'VIA_INGRESO'  \\\n",
       "0   'CCF001'  '0500102175'    '817485'          'RC'           '1'   \n",
       "1   'EPS001'  '0000050003'   '1613705'          'RC'           '2'   \n",
       "2   'ESS024'  '7600100171'  '10412733'          'MS'           '2'   \n",
       "3   'ESS024'  '7600100171'  '10412733'          'MS'           '2'   \n",
       "4   'ESS024'  '7600100171'  '10412733'          'MS'           '2'   \n",
       "\n",
       "       'FECHA_INGRESO' 'HORA_INGRESO' 'CAUSA_EXTERNA' 'DIAG_PRIN_INGRE'  \\\n",
       "0  2003-12-29 00:00:00        '21:39'            '13'            'R560'   \n",
       "1  2003-10-24 00:00:00        '00:00'            '13'            'J180'   \n",
       "2  2003-01-19 00:00:00        '09:21'            '13'            'P039'   \n",
       "3  2003-01-19 00:00:00        '09:21'            '13'            'P039'   \n",
       "4  2003-01-19 00:00:00        '09:21'            '13'            'P039'   \n",
       "\n",
       "  'DIAG_PRIN_EGRE'      ...      'DIAG_MUERTE'         'FECHA_EGRE'  \\\n",
       "0           'Y621'      ...                 ''  2004-01-02 00:00:00   \n",
       "1           'J180'      ...                 ''  2003-10-25 00:00:00   \n",
       "2           'S201'      ...                 ''  2003-03-07 00:00:00   \n",
       "3           'S201'      ...                 ''  2003-03-07 00:00:00   \n",
       "4           'S201'      ...                 ''  2003-03-07 00:00:00   \n",
       "\n",
       "  'HORA_EGRE' 'nro_radicacion' 'cod_dpto' 'cod_mpio' 'sexo' 'edad'  \\\n",
       "0      '16:2'              360       '05'      '086'    'M'      0   \n",
       "1      '00:0'              360       '11'      '001'    'M'      1   \n",
       "2     '18:58'              360       '76'      '109'    'M'      0   \n",
       "3     '18:58'              358       '76'      '109'    'M'      0   \n",
       "4     '18:58'             1506       '76'      '109'    'M'      0   \n",
       "\n",
       "   'tipo_usuario' 'consecutivo'  \n",
       "0             '2'         '586'  \n",
       "1             '1'    '18567211'  \n",
       "2             '2'    '18566948'  \n",
       "3             '2'    '18566948'  \n",
       "4             '2'    '18566948'  \n",
       "\n",
       "[5 rows x 25 columns]"
      ]
     },
     "execution_count": 6,
     "metadata": {},
     "output_type": "execute_result"
    }
   ],
   "source": [
    "df.head()"
   ]
  },
  {
   "cell_type": "code",
   "execution_count": 8,
   "metadata": {
    "collapsed": false
   },
   "outputs": [
    {
     "data": {
      "text/html": [
       "<div>\n",
       "<table border=\"1\" class=\"dataframe\">\n",
       "  <thead>\n",
       "    <tr style=\"text-align: right;\">\n",
       "      <th></th>\n",
       "      <th>'COD_EAPB'</th>\n",
       "      <th>'COD_IPS'</th>\n",
       "      <th>'FACTURA'</th>\n",
       "      <th>'TIPO_IDENTI'</th>\n",
       "      <th>'VIA_INGRESO'</th>\n",
       "      <th>'FECHA_INGRESO'</th>\n",
       "      <th>'HORA_INGRESO'</th>\n",
       "      <th>'CAUSA_EXTERNA'</th>\n",
       "      <th>'DIAG_PRIN_INGRE'</th>\n",
       "      <th>'DIAG_PRIN_EGRE'</th>\n",
       "      <th>...</th>\n",
       "      <th>'DIAG_MUERTE'</th>\n",
       "      <th>'FECHA_EGRE'</th>\n",
       "      <th>'HORA_EGRE'</th>\n",
       "      <th>'nro_radicacion'</th>\n",
       "      <th>'cod_dpto'</th>\n",
       "      <th>'cod_mpio'</th>\n",
       "      <th>'sexo'</th>\n",
       "      <th>'edad'</th>\n",
       "      <th>'tipo_usuario'</th>\n",
       "      <th>'consecutivo'</th>\n",
       "    </tr>\n",
       "  </thead>\n",
       "  <tbody>\n",
       "    <tr>\n",
       "      <th>456065</th>\n",
       "      <td>'EPS008'</td>\n",
       "      <td>'1100100621'</td>\n",
       "      <td>'498753'</td>\n",
       "      <td>'CC'</td>\n",
       "      <td>'1'</td>\n",
       "      <td>2003-03-04 00:00:00</td>\n",
       "      <td>'13:26'</td>\n",
       "      <td>'13'</td>\n",
       "      <td>'O200'</td>\n",
       "      <td>'O021'</td>\n",
       "      <td>...</td>\n",
       "      <td>None</td>\n",
       "      <td>2003-03-05 00:00:00</td>\n",
       "      <td>'11:53'</td>\n",
       "      <td>360</td>\n",
       "      <td>'11'</td>\n",
       "      <td>'001'</td>\n",
       "      <td>'F'</td>\n",
       "      <td>39</td>\n",
       "      <td>'1'</td>\n",
       "      <td>'6036453'</td>\n",
       "    </tr>\n",
       "    <tr>\n",
       "      <th>456066</th>\n",
       "      <td>'EMP017'</td>\n",
       "      <td>'0000050148'</td>\n",
       "      <td>'0941104'</td>\n",
       "      <td>'RC'</td>\n",
       "      <td>'1'</td>\n",
       "      <td>2003-06-30 00:00:00</td>\n",
       "      <td>'00:00'</td>\n",
       "      <td>'13'</td>\n",
       "      <td>'J459'</td>\n",
       "      <td>'J459'</td>\n",
       "      <td>...</td>\n",
       "      <td>None</td>\n",
       "      <td>2003-07-07 00:00:00</td>\n",
       "      <td>'00:0'</td>\n",
       "      <td>360</td>\n",
       "      <td>'11'</td>\n",
       "      <td>'001'</td>\n",
       "      <td>'M'</td>\n",
       "      <td>1</td>\n",
       "      <td>'4'</td>\n",
       "      <td>'6041986'</td>\n",
       "    </tr>\n",
       "    <tr>\n",
       "      <th>456067</th>\n",
       "      <td>'EMP017'</td>\n",
       "      <td>'00000439'</td>\n",
       "      <td>'5174191'</td>\n",
       "      <td>'CC'</td>\n",
       "      <td>'1'</td>\n",
       "      <td>2003-09-02 00:00:00</td>\n",
       "      <td>'00:00'</td>\n",
       "      <td>'13'</td>\n",
       "      <td>'N939'</td>\n",
       "      <td>'N939'</td>\n",
       "      <td>...</td>\n",
       "      <td>None</td>\n",
       "      <td>2003-09-02 00:00:00</td>\n",
       "      <td>'00:0'</td>\n",
       "      <td>360</td>\n",
       "      <td>'11'</td>\n",
       "      <td>'001'</td>\n",
       "      <td>'F'</td>\n",
       "      <td>40</td>\n",
       "      <td>'4'</td>\n",
       "      <td>'6039374'</td>\n",
       "    </tr>\n",
       "    <tr>\n",
       "      <th>456068</th>\n",
       "      <td>'EPS008'</td>\n",
       "      <td>'1100105028'</td>\n",
       "      <td>'1503689'</td>\n",
       "      <td>'CC'</td>\n",
       "      <td>'1'</td>\n",
       "      <td>2003-10-04 00:00:00</td>\n",
       "      <td>'09:42'</td>\n",
       "      <td>'13'</td>\n",
       "      <td>'K810'</td>\n",
       "      <td>'K810'</td>\n",
       "      <td>...</td>\n",
       "      <td>None</td>\n",
       "      <td>2003-10-06 00:00:00</td>\n",
       "      <td>'23:0'</td>\n",
       "      <td>360</td>\n",
       "      <td>'11'</td>\n",
       "      <td>'001'</td>\n",
       "      <td>'F'</td>\n",
       "      <td>39</td>\n",
       "      <td>'1'</td>\n",
       "      <td>'6041869'</td>\n",
       "    </tr>\n",
       "    <tr>\n",
       "      <th>456069</th>\n",
       "      <td>'CCF018'</td>\n",
       "      <td>'1100105259'</td>\n",
       "      <td>'1609859'</td>\n",
       "      <td>'CC'</td>\n",
       "      <td>'1'</td>\n",
       "      <td>2003-02-16 00:00:00</td>\n",
       "      <td>'21:37'</td>\n",
       "      <td>'13'</td>\n",
       "      <td>'R104'</td>\n",
       "      <td>'R104'</td>\n",
       "      <td>...</td>\n",
       "      <td>None</td>\n",
       "      <td>2003-02-17 00:00:00</td>\n",
       "      <td>'21:0'</td>\n",
       "      <td>360</td>\n",
       "      <td>'11'</td>\n",
       "      <td>'001'</td>\n",
       "      <td>'F'</td>\n",
       "      <td>39</td>\n",
       "      <td>'2'</td>\n",
       "      <td>'6045597'</td>\n",
       "    </tr>\n",
       "    <tr>\n",
       "      <th>456070</th>\n",
       "      <td>'EMP019'</td>\n",
       "      <td>'1100100150'</td>\n",
       "      <td>'425417'</td>\n",
       "      <td>'TI'</td>\n",
       "      <td>'1'</td>\n",
       "      <td>2003-12-19 00:00:00</td>\n",
       "      <td>'11:30'</td>\n",
       "      <td>'13'</td>\n",
       "      <td>'R11X'</td>\n",
       "      <td>'J980'</td>\n",
       "      <td>...</td>\n",
       "      <td>None</td>\n",
       "      <td>2003-12-21 00:00:00</td>\n",
       "      <td>'13:22'</td>\n",
       "      <td>2688</td>\n",
       "      <td>'11'</td>\n",
       "      <td>'001'</td>\n",
       "      <td>'M'</td>\n",
       "      <td>5</td>\n",
       "      <td>'1'</td>\n",
       "      <td>'6046049'</td>\n",
       "    </tr>\n",
       "    <tr>\n",
       "      <th>456071</th>\n",
       "      <td>'EPS005'</td>\n",
       "      <td>'1100103841'</td>\n",
       "      <td>'307446'</td>\n",
       "      <td>'CC'</td>\n",
       "      <td>'1'</td>\n",
       "      <td>2003-04-16 00:00:00</td>\n",
       "      <td>'16:15'</td>\n",
       "      <td>'13'</td>\n",
       "      <td>'O829'</td>\n",
       "      <td>'O829'</td>\n",
       "      <td>...</td>\n",
       "      <td>None</td>\n",
       "      <td>2003-04-17 00:00:00</td>\n",
       "      <td>'12:3'</td>\n",
       "      <td>360</td>\n",
       "      <td>'11'</td>\n",
       "      <td>'001'</td>\n",
       "      <td>'F'</td>\n",
       "      <td>37</td>\n",
       "      <td>'1'</td>\n",
       "      <td>'6037090'</td>\n",
       "    </tr>\n",
       "    <tr>\n",
       "      <th>456072</th>\n",
       "      <td>'EPS008'</td>\n",
       "      <td>'1100100109'</td>\n",
       "      <td>'FE-125356'</td>\n",
       "      <td>'CC'</td>\n",
       "      <td>'1'</td>\n",
       "      <td>2003-02-28 00:00:00</td>\n",
       "      <td>'10:15'</td>\n",
       "      <td>'15'</td>\n",
       "      <td>'O829'</td>\n",
       "      <td>'O342'</td>\n",
       "      <td>...</td>\n",
       "      <td>None</td>\n",
       "      <td>2003-03-01 00:00:00</td>\n",
       "      <td>'13:44'</td>\n",
       "      <td>360</td>\n",
       "      <td>'11'</td>\n",
       "      <td>'001'</td>\n",
       "      <td>'F'</td>\n",
       "      <td>38</td>\n",
       "      <td>'1'</td>\n",
       "      <td>'6038695'</td>\n",
       "    </tr>\n",
       "    <tr>\n",
       "      <th>456073</th>\n",
       "      <td>'EPS008'</td>\n",
       "      <td>'1100100621'</td>\n",
       "      <td>'489159'</td>\n",
       "      <td>'CC'</td>\n",
       "      <td>'1'</td>\n",
       "      <td>2003-02-12 00:00:00</td>\n",
       "      <td>'18:26'</td>\n",
       "      <td>'13'</td>\n",
       "      <td>'O021'</td>\n",
       "      <td>'O059'</td>\n",
       "      <td>...</td>\n",
       "      <td>None</td>\n",
       "      <td>2003-02-13 00:00:00</td>\n",
       "      <td>'11:40'</td>\n",
       "      <td>360</td>\n",
       "      <td>'11'</td>\n",
       "      <td>'001'</td>\n",
       "      <td>'F'</td>\n",
       "      <td>40</td>\n",
       "      <td>'1'</td>\n",
       "      <td>'6038891'</td>\n",
       "    </tr>\n",
       "    <tr>\n",
       "      <th>456074</th>\n",
       "      <td>'EPS001'</td>\n",
       "      <td>'00000700'</td>\n",
       "      <td>'529200'</td>\n",
       "      <td>'RC'</td>\n",
       "      <td>'2'</td>\n",
       "      <td>2003-07-31 00:00:00</td>\n",
       "      <td>'00:00'</td>\n",
       "      <td>'13'</td>\n",
       "      <td>'N47X'</td>\n",
       "      <td>'N47X'</td>\n",
       "      <td>...</td>\n",
       "      <td>None</td>\n",
       "      <td>2003-07-31 00:00:00</td>\n",
       "      <td>'00:0'</td>\n",
       "      <td>360</td>\n",
       "      <td>'11'</td>\n",
       "      <td>'001'</td>\n",
       "      <td>'M'</td>\n",
       "      <td>7</td>\n",
       "      <td>'1'</td>\n",
       "      <td>'6046940'</td>\n",
       "    </tr>\n",
       "  </tbody>\n",
       "</table>\n",
       "<p>10 rows × 25 columns</p>\n",
       "</div>"
      ],
      "text/plain": [
       "       'COD_EAPB'     'COD_IPS'    'FACTURA' 'TIPO_IDENTI' 'VIA_INGRESO'  \\\n",
       "456065   'EPS008'  '1100100621'     '498753'          'CC'           '1'   \n",
       "456066   'EMP017'  '0000050148'    '0941104'          'RC'           '1'   \n",
       "456067   'EMP017'    '00000439'    '5174191'          'CC'           '1'   \n",
       "456068   'EPS008'  '1100105028'    '1503689'          'CC'           '1'   \n",
       "456069   'CCF018'  '1100105259'    '1609859'          'CC'           '1'   \n",
       "456070   'EMP019'  '1100100150'     '425417'          'TI'           '1'   \n",
       "456071   'EPS005'  '1100103841'     '307446'          'CC'           '1'   \n",
       "456072   'EPS008'  '1100100109'  'FE-125356'          'CC'           '1'   \n",
       "456073   'EPS008'  '1100100621'     '489159'          'CC'           '1'   \n",
       "456074   'EPS001'    '00000700'     '529200'          'RC'           '2'   \n",
       "\n",
       "            'FECHA_INGRESO' 'HORA_INGRESO' 'CAUSA_EXTERNA' 'DIAG_PRIN_INGRE'  \\\n",
       "456065  2003-03-04 00:00:00        '13:26'            '13'            'O200'   \n",
       "456066  2003-06-30 00:00:00        '00:00'            '13'            'J459'   \n",
       "456067  2003-09-02 00:00:00        '00:00'            '13'            'N939'   \n",
       "456068  2003-10-04 00:00:00        '09:42'            '13'            'K810'   \n",
       "456069  2003-02-16 00:00:00        '21:37'            '13'            'R104'   \n",
       "456070  2003-12-19 00:00:00        '11:30'            '13'            'R11X'   \n",
       "456071  2003-04-16 00:00:00        '16:15'            '13'            'O829'   \n",
       "456072  2003-02-28 00:00:00        '10:15'            '15'            'O829'   \n",
       "456073  2003-02-12 00:00:00        '18:26'            '13'            'O021'   \n",
       "456074  2003-07-31 00:00:00        '00:00'            '13'            'N47X'   \n",
       "\n",
       "       'DIAG_PRIN_EGRE'      ...      'DIAG_MUERTE'         'FECHA_EGRE'  \\\n",
       "456065           'O021'      ...               None  2003-03-05 00:00:00   \n",
       "456066           'J459'      ...               None  2003-07-07 00:00:00   \n",
       "456067           'N939'      ...               None  2003-09-02 00:00:00   \n",
       "456068           'K810'      ...               None  2003-10-06 00:00:00   \n",
       "456069           'R104'      ...               None  2003-02-17 00:00:00   \n",
       "456070           'J980'      ...               None  2003-12-21 00:00:00   \n",
       "456071           'O829'      ...               None  2003-04-17 00:00:00   \n",
       "456072           'O342'      ...               None  2003-03-01 00:00:00   \n",
       "456073           'O059'      ...               None  2003-02-13 00:00:00   \n",
       "456074           'N47X'      ...               None  2003-07-31 00:00:00   \n",
       "\n",
       "       'HORA_EGRE' 'nro_radicacion' 'cod_dpto' 'cod_mpio' 'sexo' 'edad'  \\\n",
       "456065     '11:53'              360       '11'      '001'    'F'     39   \n",
       "456066      '00:0'              360       '11'      '001'    'M'      1   \n",
       "456067      '00:0'              360       '11'      '001'    'F'     40   \n",
       "456068      '23:0'              360       '11'      '001'    'F'     39   \n",
       "456069      '21:0'              360       '11'      '001'    'F'     39   \n",
       "456070     '13:22'             2688       '11'      '001'    'M'      5   \n",
       "456071      '12:3'              360       '11'      '001'    'F'     37   \n",
       "456072     '13:44'              360       '11'      '001'    'F'     38   \n",
       "456073     '11:40'              360       '11'      '001'    'F'     40   \n",
       "456074      '00:0'              360       '11'      '001'    'M'      7   \n",
       "\n",
       "        'tipo_usuario' 'consecutivo'  \n",
       "456065             '1'     '6036453'  \n",
       "456066             '4'     '6041986'  \n",
       "456067             '4'     '6039374'  \n",
       "456068             '1'     '6041869'  \n",
       "456069             '2'     '6045597'  \n",
       "456070             '1'     '6046049'  \n",
       "456071             '1'     '6037090'  \n",
       "456072             '1'     '6038695'  \n",
       "456073             '1'     '6038891'  \n",
       "456074             '1'     '6046940'  \n",
       "\n",
       "[10 rows x 25 columns]"
      ]
     },
     "execution_count": 8,
     "metadata": {},
     "output_type": "execute_result"
    }
   ],
   "source": [
    "df.tail(10)"
   ]
  },
  {
   "cell_type": "markdown",
   "metadata": {},
   "source": [
    "Elminar comillas de los strings"
   ]
  },
  {
   "cell_type": "code",
   "execution_count": 9,
   "metadata": {
    "collapsed": false
   },
   "outputs": [],
   "source": [
    "df = df.replace({\"''\":None}, regex=True)"
   ]
  },
  {
   "cell_type": "code",
   "execution_count": 10,
   "metadata": {
    "collapsed": true
   },
   "outputs": [],
   "source": [
    "df = df.replace({\"'\":\"\"}, regex=True)"
   ]
  },
  {
   "cell_type": "code",
   "execution_count": 11,
   "metadata": {
    "collapsed": true
   },
   "outputs": [],
   "source": [
    "df.columns = df.columns.map(lambda x: x.strip('\\''))"
   ]
  },
  {
   "cell_type": "code",
   "execution_count": 12,
   "metadata": {
    "collapsed": false
   },
   "outputs": [
    {
     "data": {
      "text/html": [
       "<div>\n",
       "<table border=\"1\" class=\"dataframe\">\n",
       "  <thead>\n",
       "    <tr style=\"text-align: right;\">\n",
       "      <th></th>\n",
       "      <th>COD_EAPB</th>\n",
       "      <th>COD_IPS</th>\n",
       "      <th>FACTURA</th>\n",
       "      <th>TIPO_IDENTI</th>\n",
       "      <th>VIA_INGRESO</th>\n",
       "      <th>FECHA_INGRESO</th>\n",
       "      <th>HORA_INGRESO</th>\n",
       "      <th>CAUSA_EXTERNA</th>\n",
       "      <th>DIAG_PRIN_INGRE</th>\n",
       "      <th>DIAG_PRIN_EGRE</th>\n",
       "      <th>...</th>\n",
       "      <th>DIAG_MUERTE</th>\n",
       "      <th>FECHA_EGRE</th>\n",
       "      <th>HORA_EGRE</th>\n",
       "      <th>nro_radicacion</th>\n",
       "      <th>cod_dpto</th>\n",
       "      <th>cod_mpio</th>\n",
       "      <th>sexo</th>\n",
       "      <th>edad</th>\n",
       "      <th>tipo_usuario</th>\n",
       "      <th>consecutivo</th>\n",
       "    </tr>\n",
       "  </thead>\n",
       "  <tbody>\n",
       "    <tr>\n",
       "      <th>0</th>\n",
       "      <td>CCF001</td>\n",
       "      <td>0500102175</td>\n",
       "      <td>817485</td>\n",
       "      <td>RC</td>\n",
       "      <td>1</td>\n",
       "      <td>2003-12-29 00:00:00</td>\n",
       "      <td>21:39</td>\n",
       "      <td>13</td>\n",
       "      <td>R560</td>\n",
       "      <td>Y621</td>\n",
       "      <td>...</td>\n",
       "      <td>None</td>\n",
       "      <td>2004-01-02 00:00:00</td>\n",
       "      <td>16:2</td>\n",
       "      <td>360</td>\n",
       "      <td>05</td>\n",
       "      <td>086</td>\n",
       "      <td>M</td>\n",
       "      <td>0</td>\n",
       "      <td>2</td>\n",
       "      <td>586</td>\n",
       "    </tr>\n",
       "    <tr>\n",
       "      <th>1</th>\n",
       "      <td>EPS001</td>\n",
       "      <td>0000050003</td>\n",
       "      <td>1613705</td>\n",
       "      <td>RC</td>\n",
       "      <td>2</td>\n",
       "      <td>2003-10-24 00:00:00</td>\n",
       "      <td>00:00</td>\n",
       "      <td>13</td>\n",
       "      <td>J180</td>\n",
       "      <td>J180</td>\n",
       "      <td>...</td>\n",
       "      <td>None</td>\n",
       "      <td>2003-10-25 00:00:00</td>\n",
       "      <td>00:0</td>\n",
       "      <td>360</td>\n",
       "      <td>11</td>\n",
       "      <td>001</td>\n",
       "      <td>M</td>\n",
       "      <td>1</td>\n",
       "      <td>1</td>\n",
       "      <td>18567211</td>\n",
       "    </tr>\n",
       "  </tbody>\n",
       "</table>\n",
       "<p>2 rows × 25 columns</p>\n",
       "</div>"
      ],
      "text/plain": [
       "  COD_EAPB     COD_IPS  FACTURA TIPO_IDENTI VIA_INGRESO        FECHA_INGRESO  \\\n",
       "0   CCF001  0500102175   817485          RC           1  2003-12-29 00:00:00   \n",
       "1   EPS001  0000050003  1613705          RC           2  2003-10-24 00:00:00   \n",
       "\n",
       "  HORA_INGRESO CAUSA_EXTERNA DIAG_PRIN_INGRE DIAG_PRIN_EGRE     ...      \\\n",
       "0        21:39            13            R560           Y621     ...       \n",
       "1        00:00            13            J180           J180     ...       \n",
       "\n",
       "  DIAG_MUERTE           FECHA_EGRE HORA_EGRE nro_radicacion cod_dpto cod_mpio  \\\n",
       "0        None  2004-01-02 00:00:00      16:2            360       05      086   \n",
       "1        None  2003-10-25 00:00:00      00:0            360       11      001   \n",
       "\n",
       "  sexo edad  tipo_usuario consecutivo  \n",
       "0    M    0             2         586  \n",
       "1    M    1             1    18567211  \n",
       "\n",
       "[2 rows x 25 columns]"
      ]
     },
     "execution_count": 12,
     "metadata": {},
     "output_type": "execute_result"
    }
   ],
   "source": [
    "df.head(2)"
   ]
  },
  {
   "cell_type": "markdown",
   "metadata": {},
   "source": [
    "¿Cuál es el tamaño de los datos?"
   ]
  },
  {
   "cell_type": "code",
   "execution_count": 13,
   "metadata": {
    "collapsed": false
   },
   "outputs": [
    {
     "data": {
      "text/plain": [
       "(456075, 25)"
      ]
     },
     "execution_count": 13,
     "metadata": {},
     "output_type": "execute_result"
    }
   ],
   "source": [
    "df.shape"
   ]
  },
  {
   "cell_type": "markdown",
   "metadata": {},
   "source": [
    "¿Cuál es el tipo de los datos?"
   ]
  },
  {
   "cell_type": "code",
   "execution_count": 14,
   "metadata": {
    "collapsed": false,
    "scrolled": true
   },
   "outputs": [
    {
     "data": {
      "text/plain": [
       "COD_EAPB           object\n",
       "COD_IPS            object\n",
       "FACTURA            object\n",
       "TIPO_IDENTI        object\n",
       "VIA_INGRESO        object\n",
       "FECHA_INGRESO      object\n",
       "HORA_INGRESO       object\n",
       "CAUSA_EXTERNA      object\n",
       "DIAG_PRIN_INGRE    object\n",
       "DIAG_PRIN_EGRE     object\n",
       "DIAG_EGRE1         object\n",
       "DIAG_EGRE2         object\n",
       "DIAG_EGRE3         object\n",
       "DIAG_COMPLI        object\n",
       "ESTADO_SALIDA      object\n",
       "DIAG_MUERTE        object\n",
       "FECHA_EGRE         object\n",
       "HORA_EGRE          object\n",
       "nro_radicacion      int64\n",
       "cod_dpto           object\n",
       "cod_mpio           object\n",
       "sexo               object\n",
       "edad                int64\n",
       "tipo_usuario       object\n",
       "consecutivo        object\n",
       "dtype: object"
      ]
     },
     "execution_count": 14,
     "metadata": {},
     "output_type": "execute_result"
    }
   ],
   "source": [
    "df.dtypes"
   ]
  },
  {
   "cell_type": "markdown",
   "metadata": {},
   "source": [
    "¿Que tipo son los objetos?"
   ]
  },
  {
   "cell_type": "code",
   "execution_count": 15,
   "metadata": {
    "collapsed": false
   },
   "outputs": [
    {
     "data": {
      "text/plain": [
       "str"
      ]
     },
     "execution_count": 15,
     "metadata": {},
     "output_type": "execute_result"
    }
   ],
   "source": [
    "type(df.FECHA_INGRESO[0])"
   ]
  },
  {
   "cell_type": "markdown",
   "metadata": {},
   "source": [
    "¿Cuales son los tipos de Tipo de Identificación?"
   ]
  },
  {
   "cell_type": "code",
   "execution_count": 17,
   "metadata": {
    "collapsed": false
   },
   "outputs": [
    {
     "data": {
      "text/plain": [
       "array(['RC', 'MS', 'CC', 'NU', 'AS', 'CE', 'TI', 'PA'], dtype=object)"
      ]
     },
     "execution_count": 17,
     "metadata": {},
     "output_type": "execute_result"
    }
   ],
   "source": [
    "df[\"TIPO_IDENTI\"].unique()"
   ]
  },
  {
   "cell_type": "code",
   "execution_count": 16,
   "metadata": {
    "collapsed": false
   },
   "outputs": [
    {
     "data": {
      "text/plain": [
       "numpy.int64"
      ]
     },
     "execution_count": 16,
     "metadata": {},
     "output_type": "execute_result"
    }
   ],
   "source": [
    "type(df.edad[0])"
   ]
  },
  {
   "cell_type": "markdown",
   "metadata": {},
   "source": [
    "¿Cuantos registros hay por cada tipo de indentificación?  TOMA EL GRUPO DE DATA FRAME ( SE AGRUPAN POR EL TIPO DE IDENTIDAD ))"
   ]
  },
  {
   "cell_type": "code",
   "execution_count": 18,
   "metadata": {
    "collapsed": false
   },
   "outputs": [
    {
     "data": {
      "text/plain": [
       "TIPO_IDENTI\n",
       "AS      3760\n",
       "CC    348236\n",
       "CE       559\n",
       "MS     17143\n",
       "NU      1257\n",
       "PA        78\n",
       "RC     71105\n",
       "TI     13937\n",
       "Name: TIPO_IDENTI, dtype: int64"
      ]
     },
     "execution_count": 18,
     "metadata": {},
     "output_type": "execute_result"
    }
   ],
   "source": [
    "df.groupby(\"TIPO_IDENTI\")[\"TIPO_IDENTI\"].count()"
   ]
  },
  {
   "cell_type": "markdown",
   "metadata": {},
   "source": [
    "¿Cuantas IPS hay?"
   ]
  },
  {
   "cell_type": "code",
   "execution_count": 19,
   "metadata": {
    "collapsed": false
   },
   "outputs": [
    {
     "data": {
      "text/plain": [
       "(2925,)"
      ]
     },
     "execution_count": 19,
     "metadata": {},
     "output_type": "execute_result"
    }
   ],
   "source": [
    "df[\"COD_IPS\"].unique().shape"
   ]
  },
  {
   "cell_type": "markdown",
   "metadata": {},
   "source": [
    "¿Cuantos valores nulos existen en los datos? SUMA EL NUMERO DE NULOS DEL ARCHIVO "
   ]
  },
  {
   "cell_type": "code",
   "execution_count": 20,
   "metadata": {
    "collapsed": false
   },
   "outputs": [
    {
     "data": {
      "text/plain": [
       "COD_EAPB                0\n",
       "COD_IPS                 0\n",
       "FACTURA                 0\n",
       "TIPO_IDENTI             0\n",
       "VIA_INGRESO             0\n",
       "FECHA_INGRESO           0\n",
       "HORA_INGRESO           44\n",
       "CAUSA_EXTERNA           0\n",
       "DIAG_PRIN_INGRE         0\n",
       "DIAG_PRIN_EGRE          0\n",
       "DIAG_EGRE1         398471\n",
       "DIAG_EGRE2         434369\n",
       "DIAG_EGRE3         433764\n",
       "DIAG_COMPLI        433987\n",
       "ESTADO_SALIDA           0\n",
       "DIAG_MUERTE        438563\n",
       "FECHA_EGRE              0\n",
       "HORA_EGRE               0\n",
       "nro_radicacion          0\n",
       "cod_dpto                0\n",
       "cod_mpio                0\n",
       "sexo                    0\n",
       "edad                    0\n",
       "tipo_usuario            0\n",
       "consecutivo             0\n",
       "dtype: int64"
      ]
     },
     "execution_count": 20,
     "metadata": {},
     "output_type": "execute_result"
    }
   ],
   "source": [
    "df.isnull().sum()"
   ]
  },
  {
   "cell_type": "markdown",
   "metadata": {},
   "source": [
    "¿Cual es el porcentaje de datos nulos? LOS NULOS LOS DIVIDE EN EL NUMERO DE REGISTROS Y LOS DIVIDE EN 100 Y ME DA EL PORCENTAJE"
   ]
  },
  {
   "cell_type": "code",
   "execution_count": 21,
   "metadata": {
    "collapsed": false
   },
   "outputs": [
    {
     "data": {
      "text/plain": [
       "COD_EAPB            0.000000\n",
       "COD_IPS             0.000000\n",
       "FACTURA             0.000000\n",
       "TIPO_IDENTI         0.000000\n",
       "VIA_INGRESO         0.000000\n",
       "FECHA_INGRESO       0.000000\n",
       "HORA_INGRESO        0.009648\n",
       "CAUSA_EXTERNA       0.000000\n",
       "DIAG_PRIN_INGRE     0.000000\n",
       "DIAG_PRIN_EGRE      0.000000\n",
       "DIAG_EGRE1         87.369621\n",
       "DIAG_EGRE2         95.240695\n",
       "DIAG_EGRE3         95.108041\n",
       "DIAG_COMPLI        95.156937\n",
       "ESTADO_SALIDA       0.000000\n",
       "DIAG_MUERTE        96.160281\n",
       "FECHA_EGRE          0.000000\n",
       "HORA_EGRE           0.000000\n",
       "nro_radicacion      0.000000\n",
       "cod_dpto            0.000000\n",
       "cod_mpio            0.000000\n",
       "sexo                0.000000\n",
       "edad                0.000000\n",
       "tipo_usuario        0.000000\n",
       "consecutivo         0.000000\n",
       "dtype: float64"
      ]
     },
     "execution_count": 21,
     "metadata": {},
     "output_type": "execute_result"
    }
   ],
   "source": [
    "df.isnull().sum()/df.shape[0]*100"
   ]
  },
  {
   "cell_type": "markdown",
   "metadata": {},
   "source": [
    "¿Cual es el rango de los conscutivos? d.nombre dela columna "
   ]
  },
  {
   "cell_type": "code",
   "execution_count": 22,
   "metadata": {
    "collapsed": false
   },
   "outputs": [
    {
     "data": {
      "text/plain": [
       "'10000354'"
      ]
     },
     "execution_count": 22,
     "metadata": {},
     "output_type": "execute_result"
    }
   ],
   "source": [
    "df['consecutivo'].min()"
   ]
  },
  {
   "cell_type": "code",
   "execution_count": 23,
   "metadata": {
    "collapsed": false
   },
   "outputs": [
    {
     "data": {
      "text/plain": [
       "'9999845'"
      ]
     },
     "execution_count": 23,
     "metadata": {},
     "output_type": "execute_result"
    }
   ],
   "source": [
    "df['consecutivo'].max()"
   ]
  },
  {
   "cell_type": "markdown",
   "metadata": {},
   "source": [
    "¿Cuantos Hombres y Mujeres atendio cada IPS?  de la libreria pnadas saca pivote, conocer un valor particular,la funcion len es para contar un arreglo"
   ]
  },
  {
   "cell_type": "code",
   "execution_count": 24,
   "metadata": {
    "collapsed": false
   },
   "outputs": [
    {
     "data": {
      "text/html": [
       "<div>\n",
       "<table border=\"1\" class=\"dataframe\">\n",
       "  <thead>\n",
       "    <tr style=\"text-align: right;\">\n",
       "      <th>sexo</th>\n",
       "      <th>F</th>\n",
       "      <th>M</th>\n",
       "    </tr>\n",
       "    <tr>\n",
       "      <th>COD_IPS</th>\n",
       "      <th></th>\n",
       "      <th></th>\n",
       "    </tr>\n",
       "  </thead>\n",
       "  <tbody>\n",
       "    <tr>\n",
       "      <th></th>\n",
       "      <td>51.0</td>\n",
       "      <td>22.0</td>\n",
       "    </tr>\n",
       "    <tr>\n",
       "      <th>0000000439</th>\n",
       "      <td>1.0</td>\n",
       "      <td>NaN</td>\n",
       "    </tr>\n",
       "    <tr>\n",
       "      <th>0000000609</th>\n",
       "      <td>NaN</td>\n",
       "      <td>1.0</td>\n",
       "    </tr>\n",
       "    <tr>\n",
       "      <th>0000000651</th>\n",
       "      <td>NaN</td>\n",
       "      <td>1.0</td>\n",
       "    </tr>\n",
       "    <tr>\n",
       "      <th>0000000912</th>\n",
       "      <td>5.0</td>\n",
       "      <td>NaN</td>\n",
       "    </tr>\n",
       "  </tbody>\n",
       "</table>\n",
       "</div>"
      ],
      "text/plain": [
       "sexo           F     M\n",
       "COD_IPS               \n",
       "            51.0  22.0\n",
       "0000000439   1.0   NaN\n",
       "0000000609   NaN   1.0\n",
       "0000000651   NaN   1.0\n",
       "0000000912   5.0   NaN"
      ]
     },
     "execution_count": 24,
     "metadata": {},
     "output_type": "execute_result"
    }
   ],
   "source": [
    "pd.pivot_table(df,columns=\"sexo\", values=\"DIAG_PRIN_INGRE\", index=\"COD_IPS\", aggfunc=len).head()"
   ]
  },
  {
   "cell_type": "markdown",
   "metadata": {},
   "source": [
    "Transformación de las fechas de ingreso/FUNCIONES DE TRANSFORMACIONTIENE EXPRESIONES QUE EVITAN REGEX, TRANFORME TIEMPO  DEL DF LA FECHA DE INGRESO EN FORMATO AÑO MES DIA HORA MINUTO Y SEGUNDO "
   ]
  },
  {
   "cell_type": "code",
   "execution_count": 25,
   "metadata": {
    "collapsed": true
   },
   "outputs": [],
   "source": [
    "df[\"FECHA_INGRESO\"] = pd.to_datetime(df.FECHA_INGRESO, format=\"%Y-%m-%d %H:%M:%S\")"
   ]
  },
  {
   "cell_type": "code",
   "execution_count": 26,
   "metadata": {
    "collapsed": false
   },
   "outputs": [
    {
     "data": {
      "text/plain": [
       "pandas.tslib.Timestamp"
      ]
     },
     "execution_count": 26,
     "metadata": {},
     "output_type": "execute_result"
    }
   ],
   "source": [
    "type(df[\"FECHA_INGRESO\"][0])"
   ]
  },
  {
   "cell_type": "markdown",
   "metadata": {},
   "source": [
    "¿Cuantos registros existen luego de una fecha? FUNCION DE LOCALIZACION "
   ]
  },
  {
   "cell_type": "code",
   "execution_count": 27,
   "metadata": {
    "collapsed": false
   },
   "outputs": [
    {
     "data": {
      "text/plain": [
       "258305"
      ]
     },
     "execution_count": 27,
     "metadata": {},
     "output_type": "execute_result"
    }
   ],
   "source": [
    "df.loc[df[\"FECHA_INGRESO\"]> \"2003-07-31 00:00:00\"].shape[0]"
   ]
  },
  {
   "cell_type": "markdown",
   "metadata": {},
   "source": [
    "¿Cuantos registros existen en un periodo de tiempo? 1 FORMA: TODO EN UNA LINEA "
   ]
  },
  {
   "cell_type": "code",
   "execution_count": 28,
   "metadata": {
    "collapsed": false
   },
   "outputs": [
    {
     "data": {
      "text/plain": [
       "105939"
      ]
     },
     "execution_count": 28,
     "metadata": {},
     "output_type": "execute_result"
    }
   ],
   "source": [
    "df.loc[ (df[\"FECHA_INGRESO\"]>= \"2003-05-01 00:00:00\") & (df[\"FECHA_INGRESO\"]< \"2003-07-31 00:00:00\")].shape[0]"
   ]
  },
  {
   "cell_type": "code",
   "execution_count": 33,
   "metadata": {
    "collapsed": false
   },
   "outputs": [],
   "source": [
    "rango = (df[\"FECHA_INGRESO\"]>= \"2003-05-01 00:00:00\") & (df[\"FECHA_INGRESO\"]< \"2003-07-31 00:00:00\")"
   ]
  },
  {
   "cell_type": "code",
   "execution_count": 34,
   "metadata": {
    "collapsed": false
   },
   "outputs": [
    {
     "data": {
      "text/plain": [
       "105939"
      ]
     },
     "execution_count": 34,
     "metadata": {},
     "output_type": "execute_result"
    }
   ],
   "source": [
    "df.loc[rango].shape[0]"
   ]
  },
  {
   "cell_type": "markdown",
   "metadata": {},
   "source": [
    "# 4.Gráficas"
   ]
  },
  {
   "cell_type": "markdown",
   "metadata": {},
   "source": [
    "¿Cuál es la distribución de ingreso de hospitalizaciones por mes? LIBRERIA DSIBOR UTILICE LA DISTPLOT , EL .dt es formato tiempo \n",
    "Al objeto tome el atributo de la fecha y tomeme el mes "
   ]
  },
  {
   "cell_type": "code",
   "execution_count": 35,
   "metadata": {
    "collapsed": false
   },
   "outputs": [
    {
     "name": "stderr",
     "output_type": "stream",
     "text": [
      "C:\\Users\\ASUS\\Anaconda3\\lib\\site-packages\\statsmodels\\nonparametric\\kdetools.py:20: VisibleDeprecationWarning: using a non-integer number instead of an integer will result in an error in the future\n",
      "  y = X[:m/2+1] + np.r_[0,X[m/2+1:],0]*1j\n"
     ]
    },
    {
     "data": {
      "text/plain": [
       "<matplotlib.axes._subplots.AxesSubplot at 0x6b4db7f60>"
      ]
     },
     "execution_count": 35,
     "metadata": {},
     "output_type": "execute_result"
    },
    {
     "data": {
      "image/png": "[encoded data removed]",
      "text/plain": [
       "<matplotlib.figure.Figure at 0x6b4f6f898>"
      ]
     },
     "metadata": {},
     "output_type": "display_data"
    }
   ],
   "source": [
    "sns.distplot(df[\"FECHA_INGRESO\"].dt.month)"
   ]
  },
  {
   "cell_type": "markdown",
   "metadata": {},
   "source": [
    "¿Cual es el histograma de distribución de los meses de egreso?ALA LIBRERIA GRAFIQUEME EL HISTOGRAMA "
   ]
  },
  {
   "cell_type": "code",
   "execution_count": 37,
   "metadata": {
    "collapsed": false
   },
   "outputs": [
    {
     "data": {
      "image/png": "[encoded data removed]",
      "text/plain": [
       "<matplotlib.figure.Figure at 0x6bea3ebe0>"
      ]
     },
     "metadata": {},
     "output_type": "display_data"
    }
   ],
   "source": [
    "n, bins, patches = plt.hist(df[\"FECHA_INGRESO\"].dt.month, bins=20)"
   ]
  },
  {
   "cell_type": "markdown",
   "metadata": {},
   "source": [
    "¿Cual es el porcentaje de personas por los 15 diagnosticos más frecuentes?// "
   ]
  },
  {
   "cell_type": "markdown",
   "metadata": {},
   "source": [
    "- Agrupar por diagnóstico\n",
    "- Contar el número de registros por diagnostico\n",
    "- Seleccionar el top 15\n",
    "- Hallar porcentaje\n",
    "- Graficar"
   ]
  },
  {
   "cell_type": "code",
   "execution_count": 38,
   "metadata": {
    "collapsed": true
   },
   "outputs": [],
   "source": [
    "diag_group = df.groupby(\"DIAG_PRIN_INGRE\")"
   ]
  },
  {
   "cell_type": "code",
   "execution_count": 39,
   "metadata": {
    "collapsed": true
   },
   "outputs": [],
   "source": [
    "diag_group_sum = diag_group[\"DIAG_PRIN_INGRE\"].count()"
   ]
  },
  {
   "cell_type": "code",
   "execution_count": null,
   "metadata": {
    "collapsed": true
   },
   "outputs": [],
   "source": [
    "#MUESTRA LOS 15 REGISTROS "
   ]
  },
  {
   "cell_type": "code",
   "execution_count": 43,
   "metadata": {
    "collapsed": false
   },
   "outputs": [],
   "source": [
    "diag_top = diag_group_sum.sort_values(ascending=False).head(15)"
   ]
  },
  {
   "cell_type": "code",
   "execution_count": 42,
   "metadata": {
    "collapsed": true
   },
   "outputs": [],
   "source": [
    "diag_top_percentage = diag_top/diag_top.sum()"
   ]
  },
  {
   "cell_type": "code",
   "execution_count": 44,
   "metadata": {
    "collapsed": false
   },
   "outputs": [
    {
     "data": {
      "text/plain": [
       "DIAG_PRIN_INGRE\n",
       "J180    0.135294\n",
       "O809    0.126692\n",
       "O800    0.114367\n",
       "K359    0.072348\n",
       "N390    0.071497\n",
       "R104    0.060916\n",
       "J189    0.059080\n",
       "O829    0.056097\n",
       "A09X    0.050088\n",
       "J159    0.043967\n",
       "Z349    0.043290\n",
       "I500    0.042952\n",
       "O470    0.042255\n",
       "R101    0.040686\n",
       "O200    0.040470\n",
       "Name: DIAG_PRIN_INGRE, dtype: float64"
      ]
     },
     "execution_count": 44,
     "metadata": {},
     "output_type": "execute_result"
    }
   ],
   "source": [
    "diag_top_percentage"
   ]
  },
  {
   "cell_type": "code",
   "execution_count": 45,
   "metadata": {
    "collapsed": false
   },
   "outputs": [
    {
     "data": {
      "image/png": "[encoded data removed]",
      "text/plain": [
       "<matplotlib.figure.Figure at 0x6c072bba8>"
      ]
     },
     "metadata": {},
     "output_type": "display_data"
    }
   ],
   "source": [
    "patches, texts = plt.pie(diag_top_percentage.values,labels=diag_top_percentage.index)"
   ]
  },
  {
   "cell_type": "markdown",
   "metadata": {},
   "source": [
    "# 6. Herramienta para perfilar datos"
   ]
  },
  {
   "cell_type": "markdown",
   "metadata": {},
   "source": [
    "La exploración automatica la realizaremos utilizando las herramienta pandas-profiling:\n",
    "\n",
    "- [Pandas Profiling](https://pypi.python.org/pypi/pandas-profiling/1.2.0)\n",
    "\n",
    "LIBRERIA PANDAS PROFILING CREA "
   ]
  },
  {
   "cell_type": "code",
   "execution_count": 48,
   "metadata": {
    "collapsed": false
   },
   "outputs": [
    {
     "ename": "ImportError",
     "evalue": "No module named 'pandas_profiling'",
     "output_type": "error",
     "traceback": [
      "\u001b[1;31m---------------------------------------------------------------------------\u001b[0m",
      "\u001b[1;31mImportError\u001b[0m                               Traceback (most recent call last)",
      "\u001b[1;32m<ipython-input-48-4b017797669c>\u001b[0m in \u001b[0;36m<module>\u001b[1;34m()\u001b[0m\n\u001b[1;32m----> 1\u001b[1;33m \u001b[1;32mimport\u001b[0m \u001b[0mpandas_profiling\u001b[0m\u001b[1;33m\u001b[0m\u001b[0m\n\u001b[0m",
      "\u001b[1;31mImportError\u001b[0m: No module named 'pandas_profiling'"
     ]
    }
   ],
   "source": [
    "import pandas_profiling"
   ]
  },
  {
   "cell_type": "code",
   "execution_count": 47,
   "metadata": {
    "collapsed": false
   },
   "outputs": [
    {
     "ename": "NameError",
     "evalue": "name 'pandas_profiling' is not defined",
     "output_type": "error",
     "traceback": [
      "\u001b[1;31m---------------------------------------------------------------------------\u001b[0m",
      "\u001b[1;31mNameError\u001b[0m                                 Traceback (most recent call last)",
      "\u001b[1;32m<ipython-input-47-b5ad826014b5>\u001b[0m in \u001b[0;36m<module>\u001b[1;34m()\u001b[0m\n\u001b[1;32m----> 1\u001b[1;33m \u001b[0mpandas_profiling\u001b[0m\u001b[1;33m.\u001b[0m\u001b[0mProfileReport\u001b[0m\u001b[1;33m(\u001b[0m\u001b[0mdf\u001b[0m\u001b[1;33m)\u001b[0m\u001b[1;33m\u001b[0m\u001b[0m\n\u001b[0m",
      "\u001b[1;31mNameError\u001b[0m: name 'pandas_profiling' is not defined"
     ]
    }
   ],
   "source": [
    "pandas_profiling.ProfileReport(df)"
   ]
  },
  {
   "cell_type": "markdown",
   "metadata": {},
   "source": [
    "# 5. Retos propuestos"
   ]
  },
  {
   "cell_type": "markdown",
   "metadata": {},
   "source": [
    "¿Cuantos hombres y mujeres están registrados?"
   ]
  },
  {
   "cell_type": "code",
   "execution_count": null,
   "metadata": {
    "collapsed": true
   },
   "outputs": [],
   "source": []
  },
  {
   "cell_type": "markdown",
   "metadata": {},
   "source": [
    "¿Cual es la distirbución de ingresos por horas?"
   ]
  },
  {
   "cell_type": "code",
   "execution_count": null,
   "metadata": {
    "collapsed": true
   },
   "outputs": [],
   "source": []
  },
  {
   "cell_type": "markdown",
   "metadata": {},
   "source": [
    "¿Cuales son las 5 primeras causas de diagnóstico de ingreso?"
   ]
  },
  {
   "cell_type": "code",
   "execution_count": null,
   "metadata": {
    "collapsed": true
   },
   "outputs": [],
   "source": []
  },
  {
   "cell_type": "markdown",
   "metadata": {},
   "source": [
    "¿Cuantas personas fueron atendidas por cada Tipo de Identificación en cada IPS?"
   ]
  },
  {
   "cell_type": "code",
   "execution_count": null,
   "metadata": {
    "collapsed": true
   },
   "outputs": [],
   "source": []
  },
  {
   "cell_type": "markdown",
   "metadata": {},
   "source": [
    "¿Cual es la edad promedio de las personas hospitalizadas por cada género?"
   ]
  },
  {
   "cell_type": "code",
   "execution_count": null,
   "metadata": {
    "collapsed": true
   },
   "outputs": [],
   "source": []
  },
  {
   "cell_type": "markdown",
   "metadata": {},
   "source": [
    "¿Cual es la distribución de la duración de las hospitalizaciones?"
   ]
  },
  {
   "cell_type": "code",
   "execution_count": null,
   "metadata": {
    "collapsed": true
   },
   "outputs": [],
   "source": []
  },
  {
   "cell_type": "markdown",
   "metadata": {},
   "source": [
    "¿Cual es la evolución en el tiempo de los datos faltantes en cada una de las variables?"
   ]
  },
  {
   "cell_type": "code",
   "execution_count": null,
   "metadata": {
    "collapsed": true
   },
   "outputs": [],
   "source": []
  },
  {
   "cell_type": "markdown",
   "metadata": {},
   "source": [
    "Realice la transformación de los códigos por su respectivo significado"
   ]
  },
  {
   "cell_type": "code",
   "execution_count": null,
   "metadata": {
    "collapsed": true
   },
   "outputs": [],
   "source": []
  },
  {
   "cell_type": "markdown",
   "metadata": {},
   "source": [
    "Plantee una hipótesis y realice los análisis correspondientes que le permitan validarla"
   ]
  },
  {
   "cell_type": "code",
   "execution_count": null,
   "metadata": {
    "collapsed": true
   },
   "outputs": [],
   "source": []
  },
  {
   "cell_type": "code",
   "execution_count": null,
   "metadata": {
    "collapsed": true
   },
   "outputs": [],
   "source": []
  }
 ],
 "metadata": {
  "kernelspec": {
   "display_name": "Python [Root]",
   "language": "python",
   "name": "Python [Root]"
  },
  "language_info": {
   "codemirror_mode": {
    "name": "ipython",
    "version": 3
   },
   "file_extension": ".py",
   "mimetype": "text/x-python",
   "name": "python",
   "nbconvert_exporter": "python",
   "pygments_lexer": "ipython3",
   "version": "3.5.1"
  }
 },
 "nbformat": 4,
 "nbformat_minor": 1
}
